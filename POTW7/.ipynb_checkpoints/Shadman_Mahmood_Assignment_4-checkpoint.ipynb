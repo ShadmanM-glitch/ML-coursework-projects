{
 "cells": [
  {
   "cell_type": "code",
   "execution_count": 1,
   "id": "8485e76b",
   "metadata": {},
   "outputs": [],
   "source": [
    "import numpy as np\n",
    "import tensorflow as tf\n",
    "from keras.datasets import mnist\n",
    "from tensorflow.keras import datasets, layers, models \n",
    "from keras.utils import to_categorical\n",
    "import matplotlib.pyplot as plt\n",
    "import pandas as pd\n",
    "import seaborn as sns"
   ]
  },
  {
   "cell_type": "code",
   "execution_count": 2,
   "id": "2312c15b",
   "metadata": {},
   "outputs": [],
   "source": [
    "(X_train, y_train), (X_test, y_test) = mnist.load_data()"
   ]
  },
  {
   "cell_type": "code",
   "execution_count": 3,
   "id": "b7059796",
   "metadata": {},
   "outputs": [
    {
     "data": {
      "text/plain": [
       "(60000, 28, 28)"
      ]
     },
     "execution_count": 3,
     "metadata": {},
     "output_type": "execute_result"
    }
   ],
   "source": [
    "X_train.shape"
   ]
  },
  {
   "cell_type": "code",
   "execution_count": 4,
   "id": "9e16d720",
   "metadata": {},
   "outputs": [
    {
     "data": {
      "image/png": "[encoded data removed]",
      "text/plain": [
       "<Figure size 432x288 with 10 Axes>"
      ]
     },
     "metadata": {
      "needs_background": "light"
     },
     "output_type": "display_data"
    }
   ],
   "source": [
    "fig = plt.figure()\n",
    "for i in range(10):\n",
    "    plt.subplot(2,5,i+1)\n",
    "    plt.imshow(X_test[i])"
   ]
  },
  {
   "cell_type": "code",
   "execution_count": 5,
   "id": "b2b68ced",
   "metadata": {},
   "outputs": [],
   "source": [
    "#reshape images to greyscale single channel\n",
    "X_train = X_train.reshape((60000, 28, 28, 1))\n",
    "X_test = X_test.reshape((10000, 28, 28, 1))"
   ]
  },
  {
   "cell_type": "code",
   "execution_count": 6,
   "id": "2426a20e",
   "metadata": {},
   "outputs": [],
   "source": [
    "#convert data to float32 for 32-bit precision and scale data by maximum byte value 255\n",
    "X_train = X_train.astype('float32')/255\n",
    "X_test = X_test.astype('float32')/255"
   ]
  },
  {
   "cell_type": "code",
   "execution_count": 7,
   "id": "8c55ec0c",
   "metadata": {},
   "outputs": [],
   "source": [
    "#apply one-hot encoding to the labels\n",
    "y_train = to_categorical(y_train)\n",
    "y_test = to_categorical(y_test)"
   ]
  },
  {
   "cell_type": "code",
   "execution_count": 8,
   "id": "64a015be",
   "metadata": {},
   "outputs": [],
   "source": [
    "model = models.Sequential()"
   ]
  },
  {
   "cell_type": "markdown",
   "id": "7d4535f4",
   "metadata": {},
   "source": [
    "First convolution layer to extract feature maps"
   ]
  },
  {
   "cell_type": "code",
   "execution_count": 9,
   "id": "4d977f94",
   "metadata": {},
   "outputs": [],
   "source": [
    "model.add(layers.Conv2D(filters=32,kernel_size=3,activation='relu', input_shape=[28,28,1])) #using standard number of filters 32 for optimal performance the kernel size is 3x3 \n",
    "#stating input image size to prevent border effect"
   ]
  },
  {
   "cell_type": "markdown",
   "id": "a8611175",
   "metadata": {},
   "source": [
    "Pooling to downsample feature maps"
   ]
  },
  {
   "cell_type": "code",
   "execution_count": 10,
   "id": "daffc169",
   "metadata": {},
   "outputs": [],
   "source": [
    "model.add(layers.MaxPool2D(pool_size=2,strides=2)) #pooling matrix is of size 2x2 and shift the frame every 2 pixels so setting sosetting the stride as 2  "
   ]
  },
  {
   "cell_type": "markdown",
   "id": "c765cf29",
   "metadata": {},
   "source": [
    "Dropout Layer"
   ]
  },
  {
   "cell_type": "code",
   "execution_count": 11,
   "id": "fec3f40d",
   "metadata": {},
   "outputs": [],
   "source": [
    "model.add(layers.Dropout(0.20)) #maintaining 80 percent regularization technique to prevent overfitting"
   ]
  },
  {
   "cell_type": "code",
   "execution_count": 12,
   "id": "d4d1134f",
   "metadata": {},
   "outputs": [],
   "source": [
    "model.add(layers.Conv2D(filters=64,kernel_size=3,activation='relu', input_shape=[28,28,1])) #relu used to prevent taking up excessive computational resources for the CNN \n",
    "model.add(layers.MaxPool2D(pool_size=2,strides=2))"
   ]
  },
  {
   "cell_type": "markdown",
   "id": "520c7c1b",
   "metadata": {},
   "source": [
    "Flattening"
   ]
  },
  {
   "cell_type": "code",
   "execution_count": 13,
   "id": "3cf12e8a",
   "metadata": {},
   "outputs": [],
   "source": [
    "model.add(layers.Flatten())"
   ]
  },
  {
   "cell_type": "code",
   "execution_count": 14,
   "id": "5d36440f",
   "metadata": {},
   "outputs": [],
   "source": [
    "model.add(layers.Dense(128,activation ='relu'))\n",
    "model.add(layers.Dropout(0.20))\n",
    "model.add(layers.Dense(10,activation='softmax')) #output layer has 10 possibilites for number classes from 0 to 9 also softmax is used  since multinomial classification "
   ]
  },
  {
   "cell_type": "code",
   "execution_count": 15,
   "id": "b0097e0d",
   "metadata": {},
   "outputs": [
    {
     "name": "stdout",
     "output_type": "stream",
     "text": [
      "Model: \"sequential\"\n",
      "_________________________________________________________________\n",
      " Layer (type)                Output Shape              Param #   \n",
      "=================================================================\n",
      " conv2d (Conv2D)             (None, 26, 26, 32)        320       \n",
      "                                                                 \n",
      " max_pooling2d (MaxPooling2D  (None, 13, 13, 32)       0         \n",
      " )                                                               \n",
      "                                                                 \n",
      " dropout (Dropout)           (None, 13, 13, 32)        0         \n",
      "                                                                 \n",
      " conv2d_1 (Conv2D)           (None, 11, 11, 64)        18496     \n",
      "                                                                 \n",
      " max_pooling2d_1 (MaxPooling  (None, 5, 5, 64)         0         \n",
      " 2D)                                                             \n",
      "                                                                 \n",
      " flatten (Flatten)           (None, 1600)              0         \n",
      "                                                                 \n",
      " dense (Dense)               (None, 128)               204928    \n",
      "                                                                 \n",
      " dropout_1 (Dropout)         (None, 128)               0         \n",
      "                                                                 \n",
      " dense_1 (Dense)             (None, 10)                1290      \n",
      "                                                                 \n",
      "=================================================================\n",
      "Total params: 225,034\n",
      "Trainable params: 225,034\n",
      "Non-trainable params: 0\n",
      "_________________________________________________________________\n"
     ]
    }
   ],
   "source": [
    "model.summary()"
   ]
  },
  {
   "cell_type": "code",
   "execution_count": 16,
   "id": "c73df843",
   "metadata": {},
   "outputs": [],
   "source": [
    "model.compile(optimizer='adam',loss='categorical_crossentropy',metrics=['accuracy']) #using categorical losss entropy as labels are one-hot encoded \n",
    "#optimizer is adam "
   ]
  },
  {
   "cell_type": "code",
   "execution_count": 17,
   "id": "9bd46260",
   "metadata": {},
   "outputs": [
    {
     "name": "stdout",
     "output_type": "stream",
     "text": [
      "Epoch 1/5\n",
      "1875/1875 [==============================] - 23s 12ms/step - loss: 0.1682 - accuracy: 0.9477 - val_loss: 0.0445 - val_accuracy: 0.9866\n",
      "Epoch 2/5\n",
      "1875/1875 [==============================] - 23s 12ms/step - loss: 0.0599 - accuracy: 0.9820 - val_loss: 0.0326 - val_accuracy: 0.9884\n",
      "Epoch 3/5\n",
      "1875/1875 [==============================] - 23s 13ms/step - loss: 0.0418 - accuracy: 0.9865 - val_loss: 0.0303 - val_accuracy: 0.9894\n",
      "Epoch 4/5\n",
      "1875/1875 [==============================] - 23s 12ms/step - loss: 0.0349 - accuracy: 0.9888 - val_loss: 0.0302 - val_accuracy: 0.9910\n",
      "Epoch 5/5\n",
      "1875/1875 [==============================] - 23s 12ms/step - loss: 0.0293 - accuracy: 0.9908 - val_loss: 0.0267 - val_accuracy: 0.9911\n"
     ]
    }
   ],
   "source": [
    "cnn_log = model.fit(X_train,y_train,epochs=5,batch_size= 32,validation_data=(X_test, y_test)) #epoch is chosen as 5 because there is no significant change in accuracy after that accuracy remains at 99 percent\n",
    "#batch size is 32 as it will converge faster although training will be slower"
   ]
  },
  {
   "cell_type": "markdown",
   "id": "87e480fd",
   "metadata": {},
   "source": [
    "Evaluate model accuracy to see if any hyperparameters need tuning"
   ]
  },
  {
   "cell_type": "code",
   "execution_count": 18,
   "id": "8927f31b",
   "metadata": {},
   "outputs": [
    {
     "name": "stdout",
     "output_type": "stream",
     "text": [
      "313/313 [==============================] - 1s 4ms/step - loss: 0.0267 - accuracy: 0.9911\n"
     ]
    }
   ],
   "source": [
    "evaluation = model.evaluate(X_test,y_test)"
   ]
  },
  {
   "cell_type": "code",
   "execution_count": 19,
   "id": "22608bfb",
   "metadata": {},
   "outputs": [],
   "source": [
    "acc = cnn_log.history['accuracy']\n",
    "val_acc = cnn_log.history['val_accuracy']\n",
    "loss = cnn_log.history['loss']\n",
    "val_loss = cnn_log.history['val_loss']"
   ]
  },
  {
   "cell_type": "code",
   "execution_count": 20,
   "id": "0a6229f0",
   "metadata": {},
   "outputs": [
    {
     "data": {
      "text/plain": [
       "<matplotlib.legend.Legend at 0x19dc29593d0>"
      ]
     },
     "execution_count": 20,
     "metadata": {},
     "output_type": "execute_result"
    },
    {
     "data": {
      "image/png": "[encoded data removed]",
      "text/plain": [
       "<Figure size 432x288 with 1 Axes>"
      ]
     },
     "metadata": {},
     "output_type": "display_data"
    }
   ],
   "source": [
    "sns.set(style=\"whitegrid\", font_scale=1)\n",
    "fig = plt.figure()\n",
    "plt.subplot(1,1,1)\n",
    "plt.plot(acc)\n",
    "plt.plot(val_acc)\n",
    "plt.title('Accuracy')\n",
    "plt.ylabel('accuracy')\n",
    "plt.xlabel('epoch')\n",
    "plt.legend(['train', 'test'], loc='lower right')"
   ]
  },
  {
   "cell_type": "code",
   "execution_count": 21,
   "id": "23057389",
   "metadata": {},
   "outputs": [
    {
     "data": {
      "image/png": "[encoded data removed]",
      "text/plain": [
       "<Figure size 432x288 with 1 Axes>"
      ]
     },
     "metadata": {},
     "output_type": "display_data"
    }
   ],
   "source": [
    "sns.set(style=\"whitegrid\", font_scale=1)\n",
    "fig2 = plt.figure()\n",
    "plt.subplot(1,1,1)\n",
    "plt.plot(loss)\n",
    "plt.plot(val_loss)\n",
    "plt.title('Loss')\n",
    "plt.ylabel('loss')\n",
    "plt.xlabel('epoch')\n",
    "plt.legend(['train', 'test'], loc='upper right')\n",
    "plt.tight_layout()"
   ]
  }
 ],
 "metadata": {
  "kernelspec": {
   "display_name": "Python 3 (ipykernel)",
   "language": "python",
   "name": "python3"
  },
  "language_info": {
   "codemirror_mode": {
    "name": "ipython",
    "version": 3
   },
   "file_extension": ".py",
   "mimetype": "text/x-python",
   "name": "python",
   "nbconvert_exporter": "python",
   "pygments_lexer": "ipython3",
   "version": "3.9.12"
  }
 },
 "nbformat": 4,
 "nbformat_minor": 5
}
