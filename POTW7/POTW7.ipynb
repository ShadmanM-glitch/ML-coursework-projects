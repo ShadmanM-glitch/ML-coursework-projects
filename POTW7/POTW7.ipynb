{
 "cells": [
  {
   "cell_type": "code",
   "execution_count": 1,
   "id": "8485e76b",
   "metadata": {},
   "outputs": [],
   "source": [
    "import numpy as np\n",
    "import tensorflow as tf\n",
    "from keras.datasets import mnist\n",
    "from tensorflow.keras import datasets, layers, models \n",
    "from keras.utils import to_categorical\n",
    "import matplotlib.pyplot as plt"
   ]
  },
  {
   "cell_type": "code",
   "execution_count": 2,
   "id": "2312c15b",
   "metadata": {},
   "outputs": [],
   "source": [
    "(X_train, y_train), (X_test, y_test) = mnist.load_data()"
   ]
  },
  {
   "cell_type": "code",
   "execution_count": 3,
   "id": "b7059796",
   "metadata": {},
   "outputs": [
    {
     "data": {
      "text/plain": [
       "(60000, 28, 28)"
      ]
     },
     "execution_count": 3,
     "metadata": {},
     "output_type": "execute_result"
    }
   ],
   "source": [
    "X_train.shape"
   ]
  },
  {
   "cell_type": "code",
   "execution_count": 4,
   "id": "c934e3ac",
   "metadata": {},
   "outputs": [
    {
     "data": {
      "text/plain": [
       "(10000, 28, 28)"
      ]
     },
     "execution_count": 4,
     "metadata": {},
     "output_type": "execute_result"
    }
   ],
   "source": [
    "X_test.shape"
   ]
  },
  {
   "cell_type": "code",
   "execution_count": 5,
   "id": "9e16d720",
   "metadata": {},
   "outputs": [
    {
     "data": {
      "image/png": "[encoded data removed]",
      "text/plain": [
       "<Figure size 432x288 with 10 Axes>"
      ]
     },
     "metadata": {
      "needs_background": "light"
     },
     "output_type": "display_data"
    }
   ],
   "source": [
    "fig = plt.figure()\n",
    "for i in range(10):\n",
    "    plt.subplot(2,5,i+1)\n",
    "    plt.imshow(X_test[i])"
   ]
  },
  {
   "cell_type": "code",
   "execution_count": 6,
   "id": "b2b68ced",
   "metadata": {},
   "outputs": [],
   "source": [
    "#reshape images to greyscale single channel\n",
    "X_train = X_train.reshape((60000, 28, 28, 1))\n",
    "X_test = X_test.reshape((10000, 28, 28, 1))"
   ]
  },
  {
   "cell_type": "code",
   "execution_count": 7,
   "id": "2426a20e",
   "metadata": {},
   "outputs": [],
   "source": [
    "#convert data to float32 for 32-bit precision and scale data by maximum byte value 255\n",
    "X_train = X_train.astype('float32')/255\n",
    "X_test = X_test.astype('float32')/255"
   ]
  },
  {
   "cell_type": "code",
   "execution_count": 8,
   "id": "8c55ec0c",
   "metadata": {},
   "outputs": [],
   "source": [
    "#apply one-hot encoding to the labels\n",
    "y_train = to_categorical(y_train)\n",
    "y_test = to_categorical(y_test)"
   ]
  },
  {
   "cell_type": "code",
   "execution_count": 9,
   "id": "64a015be",
   "metadata": {},
   "outputs": [],
   "source": [
    "model = models.Sequential()"
   ]
  },
  {
   "cell_type": "markdown",
   "id": "7d4535f4",
   "metadata": {},
   "source": [
    "First convolution layer to extract feature maps"
   ]
  },
  {
   "cell_type": "code",
   "execution_count": 10,
   "id": "4d977f94",
   "metadata": {},
   "outputs": [],
   "source": [
    "model.add(layers.Conv2D(filters=32,kernel_size=3,activation='relu', input_shape=[28,28,1])) #using standard number of filters 32 for optimal performance the kernel size is 3x3 \n",
    "#stating input image size to prevent border effect"
   ]
  },
  {
   "cell_type": "markdown",
   "id": "a8611175",
   "metadata": {},
   "source": [
    "Pooling to downsample feature maps"
   ]
  },
  {
   "cell_type": "code",
   "execution_count": 11,
   "id": "daffc169",
   "metadata": {},
   "outputs": [],
   "source": [
    "model.add(layers.MaxPool2D(pool_size=2,strides=2)) #pooling matrix is of size 2x2 and shift the frame every 2 pixels so setting sosetting the stride as 2  "
   ]
  },
  {
   "cell_type": "code",
   "execution_count": 12,
   "id": "d4d1134f",
   "metadata": {},
   "outputs": [],
   "source": [
    "model.add(layers.Conv2D(filters=32,kernel_size=3,activation='relu', input_shape=[28,28,1])) #relu used to prevent taking up excessive computational resources for the CNN \n",
    "model.add(layers.MaxPool2D(pool_size=2,strides=2))"
   ]
  },
  {
   "cell_type": "markdown",
   "id": "520c7c1b",
   "metadata": {},
   "source": [
    "Flattening"
   ]
  },
  {
   "cell_type": "code",
   "execution_count": 13,
   "id": "3cf12e8a",
   "metadata": {},
   "outputs": [],
   "source": [
    "model.add(layers.Flatten())"
   ]
  },
  {
   "cell_type": "code",
   "execution_count": 14,
   "id": "5d36440f",
   "metadata": {},
   "outputs": [],
   "source": [
    "model.add(layers.Dense(64,activation ='relu'))\n",
    "model.add(layers.Dense(10,activation='softmax')) #output layer has 10 possibilites for number classes from 0 to 9 also softmax is used  since multinomial classification "
   ]
  },
  {
   "cell_type": "code",
   "execution_count": 15,
   "id": "b0097e0d",
   "metadata": {},
   "outputs": [
    {
     "name": "stdout",
     "output_type": "stream",
     "text": [
      "Model: \"sequential\"\n",
      "_________________________________________________________________\n",
      " Layer (type)                Output Shape              Param #   \n",
      "=================================================================\n",
      " conv2d (Conv2D)             (None, 26, 26, 32)        320       \n",
      "                                                                 \n",
      " max_pooling2d (MaxPooling2D  (None, 13, 13, 32)       0         \n",
      " )                                                               \n",
      "                                                                 \n",
      " conv2d_1 (Conv2D)           (None, 11, 11, 32)        9248      \n",
      "                                                                 \n",
      " max_pooling2d_1 (MaxPooling  (None, 5, 5, 32)         0         \n",
      " 2D)                                                             \n",
      "                                                                 \n",
      " flatten (Flatten)           (None, 800)               0         \n",
      "                                                                 \n",
      " dense (Dense)               (None, 64)                51264     \n",
      "                                                                 \n",
      " dense_1 (Dense)             (None, 10)                650       \n",
      "                                                                 \n",
      "=================================================================\n",
      "Total params: 61,482\n",
      "Trainable params: 61,482\n",
      "Non-trainable params: 0\n",
      "_________________________________________________________________\n"
     ]
    }
   ],
   "source": [
    "model.summary()"
   ]
  },
  {
   "cell_type": "code",
   "execution_count": 16,
   "id": "c73df843",
   "metadata": {},
   "outputs": [],
   "source": [
    "model.compile(optimizer='adam',loss='categorical_crossentropy',metrics=['accuracy']) #using categorical losss entropy as labels are one-hot encoded \n",
    "#optimizer is adam "
   ]
  },
  {
   "cell_type": "code",
   "execution_count": 17,
   "id": "9bd46260",
   "metadata": {},
   "outputs": [
    {
     "name": "stdout",
     "output_type": "stream",
     "text": [
      "Epoch 1/5\n",
      "1875/1875 [==============================] - 35s 18ms/step - loss: 0.1570 - accuracy: 0.9527\n",
      "Epoch 2/5\n",
      "1875/1875 [==============================] - 35s 19ms/step - loss: 0.0517 - accuracy: 0.9838\n",
      "Epoch 3/5\n",
      "1875/1875 [==============================] - 35s 19ms/step - loss: 0.0375 - accuracy: 0.9882\n",
      "Epoch 4/5\n",
      "1875/1875 [==============================] - 38s 20ms/step - loss: 0.0284 - accuracy: 0.9909\n",
      "Epoch 5/5\n",
      "1875/1875 [==============================] - 39s 21ms/step - loss: 0.0214 - accuracy: 0.9931\n"
     ]
    },
    {
     "data": {
      "text/plain": [
       "<keras.callbacks.History at 0x1e9dc09b760>"
      ]
     },
     "execution_count": 17,
     "metadata": {},
     "output_type": "execute_result"
    }
   ],
   "source": [
    "model.fit(X_train,y_train,epochs=5,batch_size= 32) #epoch is chosen as 5 because there is no significant change in accuracy after that accuracy remains at 99 percent\n",
    "#batch size is 32 as it will converge faster although training will be slower"
   ]
  },
  {
   "cell_type": "markdown",
   "id": "87e480fd",
   "metadata": {},
   "source": [
    "Evaluate model accuracy to see if any hyperparameters need tuning"
   ]
  },
  {
   "cell_type": "code",
   "execution_count": 18,
   "id": "8927f31b",
   "metadata": {},
   "outputs": [
    {
     "name": "stdout",
     "output_type": "stream",
     "text": [
      "313/313 [==============================] - 2s 6ms/step - loss: 0.0379 - accuracy: 0.9888\n"
     ]
    },
    {
     "data": {
      "text/plain": [
       "[0.0379270575940609, 0.9887999892234802]"
      ]
     },
     "execution_count": 18,
     "metadata": {},
     "output_type": "execute_result"
    }
   ],
   "source": [
    "model.evaluate(X_test,y_test)"
   ]
  }
 ],
 "metadata": {
  "kernelspec": {
   "display_name": "Python 3 (ipykernel)",
   "language": "python",
   "name": "python3"
  },
  "language_info": {
   "codemirror_mode": {
    "name": "ipython",
    "version": 3
   },
   "file_extension": ".py",
   "mimetype": "text/x-python",
   "name": "python",
   "nbconvert_exporter": "python",
   "pygments_lexer": "ipython3",
   "version": "3.9.12"
  }
 },
 "nbformat": 4,
 "nbformat_minor": 5
}
