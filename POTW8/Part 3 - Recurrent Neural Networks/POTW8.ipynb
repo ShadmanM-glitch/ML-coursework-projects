{
 "cells": [
  {
   "cell_type": "markdown",
   "metadata": {
    "colab_type": "text",
    "id": "xpAuMVCwfWs8"
   },
   "source": [
    "# Recurrent Neural Network"
   ]
  },
  {
   "cell_type": "markdown",
   "metadata": {
    "colab_type": "text",
    "id": "nxJfRe4bfYVA"
   },
   "source": [
    "## Part 1 - Data Preprocessing"
   ]
  },
  {
   "cell_type": "markdown",
   "metadata": {
    "colab_type": "text",
    "id": "ir9zwETrfbrp"
   },
   "source": [
    "### Importing the libraries"
   ]
  },
  {
   "cell_type": "code",
   "execution_count": 1,
   "metadata": {
    "colab": {},
    "colab_type": "code",
    "id": "ZT1f24vHffuf"
   },
   "outputs": [],
   "source": [
    "import numpy as np\n",
    "import matplotlib.pyplot as plt\n",
    "import pandas as pd"
   ]
  },
  {
   "cell_type": "markdown",
   "metadata": {
    "colab_type": "text",
    "id": "nQ47JAxrgmaL"
   },
   "source": [
    "### Importing the training set"
   ]
  },
  {
   "cell_type": "code",
   "execution_count": 2,
   "metadata": {
    "colab": {},
    "colab_type": "code",
    "id": "1xiv3pJOgqY3"
   },
   "outputs": [
    {
     "data": {
      "text/html": [
       "<div>\n",
       "<style scoped>\n",
       "    .dataframe tbody tr th:only-of-type {\n",
       "        vertical-align: middle;\n",
       "    }\n",
       "\n",
       "    .dataframe tbody tr th {\n",
       "        vertical-align: top;\n",
       "    }\n",
       "\n",
       "    .dataframe thead th {\n",
       "        text-align: right;\n",
       "    }\n",
       "</style>\n",
       "<table border=\"1\" class=\"dataframe\">\n",
       "  <thead>\n",
       "    <tr style=\"text-align: right;\">\n",
       "      <th></th>\n",
       "      <th>Date</th>\n",
       "      <th>Open</th>\n",
       "      <th>High</th>\n",
       "      <th>Low</th>\n",
       "      <th>Close</th>\n",
       "      <th>Adj Close</th>\n",
       "      <th>Volume</th>\n",
       "    </tr>\n",
       "  </thead>\n",
       "  <tbody>\n",
       "    <tr>\n",
       "      <th>0</th>\n",
       "      <td>2015-01-02</td>\n",
       "      <td>78.580002</td>\n",
       "      <td>78.930000</td>\n",
       "      <td>77.699997</td>\n",
       "      <td>78.449997</td>\n",
       "      <td>78.449997</td>\n",
       "      <td>18177500</td>\n",
       "    </tr>\n",
       "    <tr>\n",
       "      <th>1</th>\n",
       "      <td>2015-01-05</td>\n",
       "      <td>77.980003</td>\n",
       "      <td>79.250000</td>\n",
       "      <td>76.860001</td>\n",
       "      <td>77.190002</td>\n",
       "      <td>77.190002</td>\n",
       "      <td>26452200</td>\n",
       "    </tr>\n",
       "    <tr>\n",
       "      <th>2</th>\n",
       "      <td>2015-01-06</td>\n",
       "      <td>77.230003</td>\n",
       "      <td>77.589996</td>\n",
       "      <td>75.360001</td>\n",
       "      <td>76.150002</td>\n",
       "      <td>76.150002</td>\n",
       "      <td>27399300</td>\n",
       "    </tr>\n",
       "    <tr>\n",
       "      <th>3</th>\n",
       "      <td>2015-01-07</td>\n",
       "      <td>76.760002</td>\n",
       "      <td>77.360001</td>\n",
       "      <td>75.820000</td>\n",
       "      <td>76.150002</td>\n",
       "      <td>76.150002</td>\n",
       "      <td>22045300</td>\n",
       "    </tr>\n",
       "    <tr>\n",
       "      <th>4</th>\n",
       "      <td>2015-01-08</td>\n",
       "      <td>76.739998</td>\n",
       "      <td>78.230003</td>\n",
       "      <td>76.080002</td>\n",
       "      <td>78.180000</td>\n",
       "      <td>78.180000</td>\n",
       "      <td>23961000</td>\n",
       "    </tr>\n",
       "  </tbody>\n",
       "</table>\n",
       "</div>"
      ],
      "text/plain": [
       "         Date       Open       High        Low      Close  Adj Close    Volume\n",
       "0  2015-01-02  78.580002  78.930000  77.699997  78.449997  78.449997  18177500\n",
       "1  2015-01-05  77.980003  79.250000  76.860001  77.190002  77.190002  26452200\n",
       "2  2015-01-06  77.230003  77.589996  75.360001  76.150002  76.150002  27399300\n",
       "3  2015-01-07  76.760002  77.360001  75.820000  76.150002  76.150002  22045300\n",
       "4  2015-01-08  76.739998  78.230003  76.080002  78.180000  78.180000  23961000"
      ]
     },
     "execution_count": 2,
     "metadata": {},
     "output_type": "execute_result"
    }
   ],
   "source": [
    "dataset_train = pd.read_csv('META_training.csv')\n",
    "dataset_train.head(5)"
   ]
  },
  {
   "cell_type": "code",
   "execution_count": 3,
   "metadata": {},
   "outputs": [],
   "source": [
    "training_set = dataset_train.iloc[:, 1].values"
   ]
  },
  {
   "cell_type": "markdown",
   "metadata": {
    "colab_type": "text",
    "id": "HT8_2UJegtG5"
   },
   "source": [
    "### Feature Scaling"
   ]
  },
  {
   "cell_type": "code",
   "execution_count": 4,
   "metadata": {
    "colab": {},
    "colab_type": "code",
    "id": "OTrF2kR7gx9x"
   },
   "outputs": [],
   "source": [
    "from sklearn.preprocessing import MinMaxScaler\n",
    "sc = MinMaxScaler()\n",
    "training_set_scaled = sc.fit_transform(training_set.reshape(-1,1))"
   ]
  },
  {
   "cell_type": "markdown",
   "metadata": {
    "colab_type": "text",
    "id": "JyYgYocqhNUg"
   },
   "source": [
    "### Creating a data structure with 40 timesteps and 1 output"
   ]
  },
  {
   "cell_type": "code",
   "execution_count": 5,
   "metadata": {
    "colab": {},
    "colab_type": "code",
    "id": "iofU21B0i6ST"
   },
   "outputs": [],
   "source": [
    "X_train = []\n",
    "y_train = []\n",
    "for i in range(40, len(training_set_scaled)):\n",
    "    X_train.append(training_set_scaled[i-40:i, 0])\n",
    "    y_train.append(training_set_scaled[i, 0])\n",
    "X_train, y_train = np.array(X_train), np.array(y_train)"
   ]
  },
  {
   "cell_type": "markdown",
   "metadata": {
    "colab_type": "text",
    "id": "D8yaN7Zvi95l"
   },
   "source": [
    "### Reshaping"
   ]
  },
  {
   "cell_type": "code",
   "execution_count": 6,
   "metadata": {
    "colab": {},
    "colab_type": "code",
    "id": "FOXqJHmNjBkz"
   },
   "outputs": [],
   "source": [
    "X_train = np.reshape(X_train, (X_train.shape[0], X_train.shape[1], 1))"
   ]
  },
  {
   "cell_type": "markdown",
   "metadata": {
    "colab_type": "text",
    "id": "ZRRSOJeVjEWV"
   },
   "source": [
    "## Part 2 - Building and Training the RNN"
   ]
  },
  {
   "cell_type": "markdown",
   "metadata": {
    "colab_type": "text",
    "id": "k4XV88JMjHXG"
   },
   "source": [
    "### Importing the Keras libraries and packages"
   ]
  },
  {
   "cell_type": "code",
   "execution_count": 7,
   "metadata": {
    "colab": {
     "base_uri": "https://localhost:8080/",
     "height": 34
    },
    "colab_type": "code",
    "id": "9JRnqsxEjKsD",
    "outputId": "b3e23e78-18aa-4396-c923-c877b8de60e4"
   },
   "outputs": [],
   "source": [
    "from keras.models import Sequential\n",
    "from keras.layers import Dense\n",
    "from keras.layers import LSTM\n",
    "from keras.layers import Dropout"
   ]
  },
  {
   "cell_type": "markdown",
   "metadata": {
    "colab_type": "text",
    "id": "FEIE-1s9jNzC"
   },
   "source": [
    "### Initialising the RNN"
   ]
  },
  {
   "cell_type": "code",
   "execution_count": 8,
   "metadata": {
    "colab": {},
    "colab_type": "code",
    "id": "1338dJ0UjRKH"
   },
   "outputs": [],
   "source": [
    "rnn = Sequential()"
   ]
  },
  {
   "cell_type": "markdown",
   "metadata": {
    "colab_type": "text",
    "id": "62eg1OPGjT8z"
   },
   "source": [
    "### Adding the first LSTM layer and some Dropout regularisation"
   ]
  },
  {
   "cell_type": "code",
   "execution_count": 9,
   "metadata": {
    "colab": {},
    "colab_type": "code",
    "id": "2hIinyXUjbVU"
   },
   "outputs": [],
   "source": [
    "rnn.add(LSTM(units = 45, return_sequences = True, input_shape = (X_train.shape[1], 1)))\n",
    "rnn.add(Dropout(0.2))"
   ]
  },
  {
   "cell_type": "markdown",
   "metadata": {
    "colab_type": "text",
    "id": "3XBIYLyOjlMx"
   },
   "source": [
    "### Adding a second, third and fourth LSTM layer and some Dropout regularisation"
   ]
  },
  {
   "cell_type": "code",
   "execution_count": 10,
   "metadata": {
    "colab": {},
    "colab_type": "code",
    "id": "UG7nrVaSjuZ2"
   },
   "outputs": [],
   "source": [
    "for i in [True, True, False]:\n",
    "    rnn.add(LSTM(units = 45, return_sequences = i))\n",
    "    rnn.add(Dropout(0.2))"
   ]
  },
  {
   "cell_type": "markdown",
   "metadata": {
    "colab_type": "text",
    "id": "9ABI6rOIkHhk"
   },
   "source": [
    "### Adding the output layer"
   ]
  },
  {
   "cell_type": "code",
   "execution_count": 11,
   "metadata": {
    "colab": {},
    "colab_type": "code",
    "id": "aM6R1z4WkME8"
   },
   "outputs": [],
   "source": [
    "rnn.add(Dense(units = 1))"
   ]
  },
  {
   "cell_type": "markdown",
   "metadata": {
    "colab_type": "text",
    "id": "zLx4K7uUkPSh"
   },
   "source": [
    "### Compiling the RNN"
   ]
  },
  {
   "cell_type": "code",
   "execution_count": 12,
   "metadata": {
    "colab": {},
    "colab_type": "code",
    "id": "XTrhVN-tkbko"
   },
   "outputs": [],
   "source": [
    "rnn.compile(optimizer = 'adam', loss = 'mean_squared_error')"
   ]
  },
  {
   "cell_type": "markdown",
   "metadata": {
    "colab_type": "text",
    "id": "-mPhwKGkkebi"
   },
   "source": [
    "### Fitting the RNN to the Training set"
   ]
  },
  {
   "cell_type": "code",
   "execution_count": 13,
   "metadata": {
    "colab": {
     "base_uri": "https://localhost:8080/",
     "height": 1000
    },
    "colab_type": "code",
    "id": "I06Nkrz5kkb-",
    "outputId": "dc9d947a-4d5c-4dbc-ed45-31bf44b98dfb"
   },
   "outputs": [
    {
     "name": "stdout",
     "output_type": "stream",
     "text": [
      "Epoch 1/100\n",
      "39/39 [==============================] - 9s 37ms/step - loss: 0.0425\n",
      "Epoch 2/100\n",
      "39/39 [==============================] - 1s 37ms/step - loss: 0.0070\n",
      "Epoch 3/100\n",
      "39/39 [==============================] - 1s 37ms/step - loss: 0.0064\n",
      "Epoch 4/100\n",
      "39/39 [==============================] - 1s 36ms/step - loss: 0.0068\n",
      "Epoch 5/100\n",
      "39/39 [==============================] - 1s 36ms/step - loss: 0.0056\n",
      "Epoch 6/100\n",
      "39/39 [==============================] - 1s 36ms/step - loss: 0.0063\n",
      "Epoch 7/100\n",
      "39/39 [==============================] - 1s 36ms/step - loss: 0.0060\n",
      "Epoch 8/100\n",
      "39/39 [==============================] - 1s 37ms/step - loss: 0.0066\n",
      "Epoch 9/100\n",
      "39/39 [==============================] - 1s 36ms/step - loss: 0.0053\n",
      "Epoch 10/100\n",
      "39/39 [==============================] - 1s 37ms/step - loss: 0.0059\n",
      "Epoch 11/100\n",
      "39/39 [==============================] - 1s 36ms/step - loss: 0.0047\n",
      "Epoch 12/100\n",
      "39/39 [==============================] - 1s 37ms/step - loss: 0.0052\n",
      "Epoch 13/100\n",
      "39/39 [==============================] - 1s 36ms/step - loss: 0.0051\n",
      "Epoch 14/100\n",
      "39/39 [==============================] - 1s 37ms/step - loss: 0.0049\n",
      "Epoch 15/100\n",
      "39/39 [==============================] - 1s 36ms/step - loss: 0.0051\n",
      "Epoch 16/100\n",
      "39/39 [==============================] - 1s 37ms/step - loss: 0.0072\n",
      "Epoch 17/100\n",
      "39/39 [==============================] - 1s 37ms/step - loss: 0.0044\n",
      "Epoch 18/100\n",
      "39/39 [==============================] - 1s 37ms/step - loss: 0.0051\n",
      "Epoch 19/100\n",
      "39/39 [==============================] - 1s 37ms/step - loss: 0.0047\n",
      "Epoch 20/100\n",
      "39/39 [==============================] - 1s 36ms/step - loss: 0.0043\n",
      "Epoch 21/100\n",
      "39/39 [==============================] - 1s 36ms/step - loss: 0.0040\n",
      "Epoch 22/100\n",
      "39/39 [==============================] - 1s 36ms/step - loss: 0.0044\n",
      "Epoch 23/100\n",
      "39/39 [==============================] - 1s 36ms/step - loss: 0.0046\n",
      "Epoch 24/100\n",
      "39/39 [==============================] - 1s 36ms/step - loss: 0.0043\n",
      "Epoch 25/100\n",
      "39/39 [==============================] - 1s 37ms/step - loss: 0.0037\n",
      "Epoch 26/100\n",
      "39/39 [==============================] - 1s 37ms/step - loss: 0.0037\n",
      "Epoch 27/100\n",
      "39/39 [==============================] - 1s 36ms/step - loss: 0.0036\n",
      "Epoch 28/100\n",
      "39/39 [==============================] - 1s 37ms/step - loss: 0.0034\n",
      "Epoch 29/100\n",
      "39/39 [==============================] - 1s 38ms/step - loss: 0.0034\n",
      "Epoch 30/100\n",
      "39/39 [==============================] - 1s 38ms/step - loss: 0.0042\n",
      "Epoch 31/100\n",
      "39/39 [==============================] - 1s 38ms/step - loss: 0.0038\n",
      "Epoch 32/100\n",
      "39/39 [==============================] - 1s 38ms/step - loss: 0.0037\n",
      "Epoch 33/100\n",
      "39/39 [==============================] - 1s 38ms/step - loss: 0.0038\n",
      "Epoch 34/100\n",
      "39/39 [==============================] - 1s 38ms/step - loss: 0.0039\n",
      "Epoch 35/100\n",
      "39/39 [==============================] - 1s 38ms/step - loss: 0.0035\n",
      "Epoch 36/100\n",
      "39/39 [==============================] - 1s 37ms/step - loss: 0.0031\n",
      "Epoch 37/100\n",
      "39/39 [==============================] - 1s 38ms/step - loss: 0.0033\n",
      "Epoch 38/100\n",
      "39/39 [==============================] - 1s 38ms/step - loss: 0.0032\n",
      "Epoch 39/100\n",
      "39/39 [==============================] - 1s 38ms/step - loss: 0.0038\n",
      "Epoch 40/100\n",
      "39/39 [==============================] - 1s 38ms/step - loss: 0.0051\n",
      "Epoch 41/100\n",
      "39/39 [==============================] - 1s 38ms/step - loss: 0.0031\n",
      "Epoch 42/100\n",
      "39/39 [==============================] - 1s 38ms/step - loss: 0.0030\n",
      "Epoch 43/100\n",
      "39/39 [==============================] - 1s 37ms/step - loss: 0.0032\n",
      "Epoch 44/100\n",
      "39/39 [==============================] - 1s 38ms/step - loss: 0.0030\n",
      "Epoch 45/100\n",
      "39/39 [==============================] - 1s 38ms/step - loss: 0.0029\n",
      "Epoch 46/100\n",
      "39/39 [==============================] - 1s 37ms/step - loss: 0.0031\n",
      "Epoch 47/100\n",
      "39/39 [==============================] - 1s 38ms/step - loss: 0.0029\n",
      "Epoch 48/100\n",
      "39/39 [==============================] - 2s 39ms/step - loss: 0.0028\n",
      "Epoch 49/100\n",
      "39/39 [==============================] - 1s 38ms/step - loss: 0.0031\n",
      "Epoch 50/100\n",
      "39/39 [==============================] - 1s 38ms/step - loss: 0.0029\n",
      "Epoch 51/100\n",
      "39/39 [==============================] - 2s 39ms/step - loss: 0.0031\n",
      "Epoch 52/100\n",
      "39/39 [==============================] - 2s 39ms/step - loss: 0.0029\n",
      "Epoch 53/100\n",
      "39/39 [==============================] - 1s 38ms/step - loss: 0.0026\n",
      "Epoch 54/100\n",
      "39/39 [==============================] - 1s 38ms/step - loss: 0.0032\n",
      "Epoch 55/100\n",
      "39/39 [==============================] - 1s 38ms/step - loss: 0.0029\n",
      "Epoch 56/100\n",
      "39/39 [==============================] - 1s 38ms/step - loss: 0.0034\n",
      "Epoch 57/100\n",
      "39/39 [==============================] - 2s 39ms/step - loss: 0.0029\n",
      "Epoch 58/100\n",
      "39/39 [==============================] - 1s 38ms/step - loss: 0.0026\n",
      "Epoch 59/100\n",
      "39/39 [==============================] - 1s 38ms/step - loss: 0.0027\n",
      "Epoch 60/100\n",
      "39/39 [==============================] - 1s 38ms/step - loss: 0.0028\n",
      "Epoch 61/100\n",
      "39/39 [==============================] - 1s 37ms/step - loss: 0.0028\n",
      "Epoch 62/100\n",
      "39/39 [==============================] - 1s 37ms/step - loss: 0.0031\n",
      "Epoch 63/100\n",
      "39/39 [==============================] - 1s 38ms/step - loss: 0.0023\n",
      "Epoch 64/100\n",
      "39/39 [==============================] - 1s 38ms/step - loss: 0.0025\n",
      "Epoch 65/100\n",
      "39/39 [==============================] - 1s 38ms/step - loss: 0.0024\n",
      "Epoch 66/100\n",
      "39/39 [==============================] - 1s 38ms/step - loss: 0.0022\n",
      "Epoch 67/100\n",
      "39/39 [==============================] - 1s 38ms/step - loss: 0.0026\n",
      "Epoch 68/100\n",
      "39/39 [==============================] - 1s 38ms/step - loss: 0.0022\n",
      "Epoch 69/100\n",
      "39/39 [==============================] - 1s 38ms/step - loss: 0.0023\n",
      "Epoch 70/100\n",
      "39/39 [==============================] - 1s 38ms/step - loss: 0.0024\n",
      "Epoch 71/100\n",
      "39/39 [==============================] - 1s 38ms/step - loss: 0.0021\n",
      "Epoch 72/100\n",
      "39/39 [==============================] - 1s 38ms/step - loss: 0.0025\n",
      "Epoch 73/100\n",
      "39/39 [==============================] - 1s 38ms/step - loss: 0.0020\n",
      "Epoch 74/100\n",
      "39/39 [==============================] - 1s 38ms/step - loss: 0.0020\n",
      "Epoch 75/100\n",
      "39/39 [==============================] - 1s 38ms/step - loss: 0.0021\n",
      "Epoch 76/100\n",
      "39/39 [==============================] - 1s 38ms/step - loss: 0.0026\n",
      "Epoch 77/100\n",
      "39/39 [==============================] - 1s 38ms/step - loss: 0.0020\n",
      "Epoch 78/100\n",
      "39/39 [==============================] - 1s 38ms/step - loss: 0.0021\n",
      "Epoch 79/100\n",
      "39/39 [==============================] - 1s 38ms/step - loss: 0.0020\n",
      "Epoch 80/100\n",
      "39/39 [==============================] - 2s 39ms/step - loss: 0.0021\n",
      "Epoch 81/100\n",
      "39/39 [==============================] - 2s 47ms/step - loss: 0.0028\n",
      "Epoch 82/100\n",
      "39/39 [==============================] - 2s 42ms/step - loss: 0.0020\n",
      "Epoch 83/100\n",
      "39/39 [==============================] - 2s 41ms/step - loss: 0.0018\n",
      "Epoch 84/100\n",
      "39/39 [==============================] - 2s 41ms/step - loss: 0.0019\n",
      "Epoch 85/100\n",
      "39/39 [==============================] - 2s 40ms/step - loss: 0.0018\n",
      "Epoch 86/100\n",
      "39/39 [==============================] - 2s 40ms/step - loss: 0.0017\n",
      "Epoch 87/100\n",
      "39/39 [==============================] - 2s 40ms/step - loss: 0.0025\n",
      "Epoch 88/100\n",
      "39/39 [==============================] - 2s 41ms/step - loss: 0.0020\n",
      "Epoch 89/100\n",
      "39/39 [==============================] - 2s 41ms/step - loss: 0.0020\n",
      "Epoch 90/100\n",
      "39/39 [==============================] - 2s 41ms/step - loss: 0.0017\n",
      "Epoch 91/100\n",
      "39/39 [==============================] - 2s 41ms/step - loss: 0.0022\n",
      "Epoch 92/100\n",
      "39/39 [==============================] - 2s 41ms/step - loss: 0.0017\n",
      "Epoch 93/100\n",
      "39/39 [==============================] - 2s 41ms/step - loss: 0.0016\n",
      "Epoch 94/100\n",
      "39/39 [==============================] - 2s 41ms/step - loss: 0.0018\n",
      "Epoch 95/100\n",
      "39/39 [==============================] - 2s 41ms/step - loss: 0.0017\n",
      "Epoch 96/100\n",
      "39/39 [==============================] - 2s 40ms/step - loss: 0.0018\n",
      "Epoch 97/100\n",
      "39/39 [==============================] - 2s 41ms/step - loss: 0.0016\n",
      "Epoch 98/100\n",
      "39/39 [==============================] - 2s 41ms/step - loss: 0.0018\n",
      "Epoch 99/100\n",
      "39/39 [==============================] - 2s 41ms/step - loss: 0.0017\n",
      "Epoch 100/100\n",
      "39/39 [==============================] - 2s 41ms/step - loss: 0.0022\n"
     ]
    },
    {
     "data": {
      "text/plain": [
       "<keras.callbacks.History at 0x2e40b0ac1c0>"
      ]
     },
     "execution_count": 13,
     "metadata": {},
     "output_type": "execute_result"
    }
   ],
   "source": [
    "rnn.fit(X_train, y_train, epochs = 100, batch_size = 32)"
   ]
  },
  {
   "cell_type": "markdown",
   "metadata": {
    "colab_type": "text",
    "id": "4hRau_lIkrE8"
   },
   "source": [
    "## Part 3 - Making the predictions and visualising the results"
   ]
  },
  {
   "cell_type": "markdown",
   "metadata": {
    "colab_type": "text",
    "id": "SgJO6qEDksxD"
   },
   "source": [
    "### Getting the real stock price of 2017"
   ]
  },
  {
   "cell_type": "code",
   "execution_count": 14,
   "metadata": {
    "colab": {},
    "colab_type": "code",
    "id": "FmBT2zqukxTz"
   },
   "outputs": [],
   "source": [
    "dataset_test = pd.read_csv('META_test.csv')\n",
    "real_stock_price = dataset_test.iloc[:, 1].values"
   ]
  },
  {
   "cell_type": "markdown",
   "metadata": {
    "colab_type": "text",
    "id": "GrvrLblxkz42"
   },
   "source": [
    "### Getting the predicted stock price of 2017"
   ]
  },
  {
   "cell_type": "code",
   "execution_count": 15,
   "metadata": {
    "colab": {},
    "colab_type": "code",
    "id": "emikTvUpk3Ck"
   },
   "outputs": [
    {
     "name": "stdout",
     "output_type": "stream",
     "text": [
      "1/1 [==============================] - 2s 2s/step\n",
      "(20, 1)\n"
     ]
    }
   ],
   "source": [
    "dataset_total = pd.concat((dataset_train['Open'], dataset_test['Open']), axis = 0)\n",
    "inputs = dataset_total[len(dataset_total) - len(dataset_test) - 40:].values\n",
    "inputs = inputs.reshape(-1,1)\n",
    "inputs = sc.transform(inputs)\n",
    "X_test = []\n",
    "for i in range(40, len(inputs)):\n",
    "    X_test.append(inputs[i-40:i, 0])\n",
    "X_test = np.array(X_test)\n",
    "X_test = np.reshape(X_test, (X_test.shape[0], X_test.shape[1], 1))\n",
    "predicted_stock_price = rnn.predict(X_test)\n",
    "print(predicted_stock_price.shape)\n",
    "predicted_stock_price = sc.inverse_transform(predicted_stock_price)"
   ]
  },
  {
   "cell_type": "markdown",
   "metadata": {
    "colab_type": "text",
    "id": "iFTNs3YHk6FQ"
   },
   "source": [
    "### Visualising the results"
   ]
  },
  {
   "cell_type": "code",
   "execution_count": 16,
   "metadata": {
    "colab": {
     "base_uri": "https://localhost:8080/",
     "height": 295
    },
    "colab_type": "code",
    "id": "8OUI8U49k9tH",
    "outputId": "db0ed15e-071b-4bae-955e-0eda3df95238"
   },
   "outputs": [
    {
     "data": {
      "image/png": "[encoded data removed]",
      "text/plain": [
       "<Figure size 432x288 with 1 Axes>"
      ]
     },
     "metadata": {
      "needs_background": "light"
     },
     "output_type": "display_data"
    }
   ],
   "source": [
    "plt.plot(real_stock_price, color = 'red', label = 'Real META Stock Price')\n",
    "plt.plot(predicted_stock_price, color = 'blue', label = 'Predicted META Stock Price')\n",
    "plt.title('META Stock Price Prediction')\n",
    "plt.xlabel('Time')\n",
    "plt.ylabel('META Stock Price')\n",
    "plt.legend()\n",
    "plt.show()"
   ]
  }
 ],
 "metadata": {
  "colab": {
   "collapsed_sections": [],
   "name": "recurrent_neural_network.ipynb",
   "provenance": []
  },
  "kernelspec": {
   "display_name": "Python 3 (ipykernel)",
   "language": "python",
   "name": "python3"
  },
  "language_info": {
   "codemirror_mode": {
    "name": "ipython",
    "version": 3
   },
   "file_extension": ".py",
   "mimetype": "text/x-python",
   "name": "python",
   "nbconvert_exporter": "python",
   "pygments_lexer": "ipython3",
   "version": "3.9.12"
  }
 },
 "nbformat": 4,
 "nbformat_minor": 1
}
