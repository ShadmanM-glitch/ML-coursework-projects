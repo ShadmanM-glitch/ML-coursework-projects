{
 "cells": [
  {
   "cell_type": "markdown",
   "id": "283cb601",
   "metadata": {},
   "source": [
    "Importing libraries"
   ]
  },
  {
   "cell_type": "code",
   "execution_count": 1107,
   "id": "cd119344",
   "metadata": {},
   "outputs": [],
   "source": [
    "import numpy as np\n",
    "import matplotlib.pyplot as plt\n",
    "import pandas as pd\n",
    "from sklearn.impute import SimpleImputer"
   ]
  },
  {
   "cell_type": "markdown",
   "id": "2a97291a",
   "metadata": {},
   "source": [
    "Importing the dataset and picking relevant data"
   ]
  },
  {
   "cell_type": "code",
   "execution_count": 1108,
   "id": "2771735f",
   "metadata": {},
   "outputs": [
    {
     "name": "stderr",
     "output_type": "stream",
     "text": [
      "C:\\Users\\Slims\\anaconda3\\lib\\site-packages\\IPython\\core\\interactiveshell.py:3369: FutureWarning: In a future version of pandas all arguments of read_csv except for the argument 'filepath_or_buffer' will be keyword-only.\n",
      "  exec(code_obj, self.user_global_ns, self.user_ns)\n"
     ]
    }
   ],
   "source": [
    "raw_data = pd.read_csv('loan-data.csv',\",\")\n",
    "\n",
    "X_features = pd.DataFrame(raw_data.iloc[:,1:11].values, columns = ['issue_date','loan_amnt','loan_status','funded_amnt','term','int_rate','installment','grade','sub_grade','verification_status'])\n",
    "Y_dependable = pd.DataFrame(raw_data.iloc[:,12:14].values, columns = ['addr_state','total_paymnt'])"
   ]
  },
  {
   "cell_type": "markdown",
   "id": "8eaadd0d",
   "metadata": {},
   "source": [
    "Check to see if missing data from the dataset"
   ]
  },
  {
   "cell_type": "code",
   "execution_count": 1109,
   "id": "b89b6585",
   "metadata": {},
   "outputs": [
    {
     "name": "stdout",
     "output_type": "stream",
     "text": [
      "issue_date             500\n",
      "loan_amnt              500\n",
      "loan_status            500\n",
      "funded_amnt            500\n",
      "term                   500\n",
      "int_rate               500\n",
      "installment            501\n",
      "grade                  515\n",
      "sub_grade              514\n",
      "verification_status    500\n",
      "dtype: int64 addr_state      500\n",
      "total_paymnt    500\n",
      "dtype: int64\n"
     ]
    }
   ],
   "source": [
    "X_missing_values = pd.isnull(X_features).sum()\n",
    "Y_missing_values = pd.isnull(Y_dependable).sum()\n",
    "print(X_missing_values, Y_missing_values)"
   ]
  },
  {
   "cell_type": "markdown",
   "id": "f6e36cab",
   "metadata": {},
   "source": [
    "Since all issues dates are for the year 2022 it can be replaced"
   ]
  },
  {
   "cell_type": "code",
   "execution_count": 1110,
   "id": "ee3aa84e",
   "metadata": {},
   "outputs": [],
   "source": [
    "change_month = pd.DataFrame(X_features[\"issue_date\"])\n",
    "\n",
    "change_month['month'] = change_month[\"issue_date\"].str.split('/').str[0]\n",
    "change_month['day'] = change_month[\"issue_date\"].str.split('/').str[1]\n",
    "\n",
    "change_month['day'] = change_month['day'].astype(float)\n",
    "\n",
    "\n",
    "imputer = SimpleImputer(missing_values=np.nan, strategy='mean',verbose=0)\n",
    "imputer.fit(change_month.iloc[:, 1:3])\n",
    "change_month.iloc[:,1:3] = imputer.transform(change_month.iloc[:, 1:3]).round(0)\n",
    "change_month['month'] = change_month['month'].astype(int).astype(\"string\")\n",
    "change_month['day'] = change_month['day'].astype(int).astype(\"string\")\n",
    "change_month['issue_date'] = change_month['month'] + \"-\" + change_month['day']\n",
    "X_features['issue_date'] = change_month['issue_date']"
   ]
  },
  {
   "cell_type": "markdown",
   "id": "f8450037",
   "metadata": {},
   "source": [
    "Fix loan amount"
   ]
  },
  {
   "cell_type": "code",
   "execution_count": 1111,
   "id": "d0e8d86e",
   "metadata": {},
   "outputs": [],
   "source": [
    "loan_amount = pd.DataFrame(X_features[\"loan_amnt\"]).astype(float)\n",
    "funded_amount = pd.DataFrame(X_features[\"funded_amnt\"]).astype(float)\n",
    "loan_amount[\"loan_amnt\"] = loan_amount[\"loan_amnt\"].fillna(funded_amount[\"funded_amnt\"])\n",
    "\n",
    "X_features[\"loan_amnt\"] = loan_amount[\"loan_amnt\"]\n",
    "X_features = X_features.drop([\"funded_amnt\"], axis=1) #funded amount is same as loan amoutn so it is dropped"
   ]
  },
  {
   "cell_type": "markdown",
   "id": "53c141a2",
   "metadata": {},
   "source": [
    "Fix loan status"
   ]
  },
  {
   "cell_type": "code",
   "execution_count": 1112,
   "id": "3c4e898b",
   "metadata": {},
   "outputs": [],
   "source": [
    "status_dict = {\"Current\": 1 ,\"Fully Paid\" : 1,\"Issued\" :1,\n",
    "               \"Charged Off\":0, \"Default\":0, \"In Grace Period\":0,\"Late (16-30 days)\":0,\n",
    "                      \"Late (31-120 days)\":0, np.nan : 0}"
   ]
  },
  {
   "cell_type": "code",
   "execution_count": 1113,
   "id": "7ff5004e",
   "metadata": {},
   "outputs": [],
   "source": [
    "loan_status_change =  pd.DataFrame(X_features[\"loan_status\"])\n",
    "X_features[\"loan_status\"]  = loan_status_change[\"loan_status\"].map(status_dict) \n"
   ]
  },
  {
   "cell_type": "markdown",
   "id": "e681e74b",
   "metadata": {},
   "source": [
    "Fix term"
   ]
  },
  {
   "cell_type": "code",
   "execution_count": 1114,
   "id": "fe4726cd",
   "metadata": {},
   "outputs": [],
   "source": [
    "term_encoding = {\" 36 months\": 1, \" 60 months\": 0, np.nan: 0}\n",
    "X_features['term'] = X_features['term'].map(term_encoding)\n"
   ]
  },
  {
   "cell_type": "markdown",
   "id": "31700da2",
   "metadata": {},
   "source": [
    "   Fix Interest rate"
   ]
  },
  {
   "cell_type": "code",
   "execution_count": 1115,
   "id": "1159dc55",
   "metadata": {},
   "outputs": [],
   "source": [
    "interest_rate = pd.DataFrame(X_features[\"int_rate\"])\n",
    "imputer = SimpleImputer(missing_values=np.nan, strategy='mean',verbose=0)\n",
    "imputer.fit(interest_rate.iloc[:])\n",
    "X_features[\"int_rate\"] = imputer.transform(interest_rate.iloc[:])"
   ]
  },
  {
   "cell_type": "markdown",
   "id": "ed446d48",
   "metadata": {},
   "source": [
    "Fix installment"
   ]
  },
  {
   "cell_type": "code",
   "execution_count": 1116,
   "id": "f7ea78f6",
   "metadata": {},
   "outputs": [],
   "source": [
    "installment = pd.DataFrame(X_features[\"installment\"])\n",
    "imputer = SimpleImputer(missing_values=np.nan, strategy='mean') \n",
    "imputer.fit(installment.iloc[:])\n",
    "X_features[\"installment\"] = imputer.transform(installment.iloc[:]).round(2)\n"
   ]
  },
  {
   "cell_type": "markdown",
   "id": "fe3d8696",
   "metadata": {},
   "source": [
    "Fix grades and subgrades"
   ]
  },
  {
   "cell_type": "code",
   "execution_count": 1117,
   "id": "0350e711",
   "metadata": {},
   "outputs": [],
   "source": [
    "grade_dict = {\"A\":5,\"B\":10,\"C\":15,\"D\":20,\"E\":25,\"F\":30,\"G\":35,\"A1\":1,\"A2\":2,\"A3\":3,\"A4\":4,\"A5\":5,\n",
    "              \"B1\":6,\"B2\":7,\"B3\":8,\"B4\":9,\"B5\":10,\"C1\":11,\"C2\":12,\"C3\":13,\"C4\":14,\"C5\":15,\n",
    "              \"D1\":16,\"D2\":17,\"D3\":18,\"D4\":19,\"D5\":20,\"E1\":21,\"E2\":22,\"E3\":23,\"E4\":24,\"E5\":25,\n",
    "              \"F1\":26,\"F2\":27,\"F3\":28,\"F4\":29,\"F5\":30,\"G1\":31,\"G2\":32,\"G3\":33,\"G4\":34,\"G5\":35, np.nan:36}\n",
    "new_subgrades = pd.DataFrame(X_features[\"grade\"])\n",
    "new_subgrades[\"sub_grade\"] = pd.DataFrame(X_features[\"sub_grade\"])\n",
    "new_subgrades[\"sub_grade\"] = new_subgrades[\"sub_grade\"].fillna(new_subgrades[\"grade\"])\n",
    "X_features = X_features.drop([\"grade\"], axis=1)\n",
    "new_subgrades[\"sub_grade\"] = new_subgrades[\"sub_grade\"].map(grade_dict)\n",
    "X_features[\"sub_grade\"]  =new_subgrades[\"sub_grade\"].astype(int) \n"
   ]
  },
  {
   "cell_type": "markdown",
   "id": "727e661c",
   "metadata": {},
   "source": [
    "Fix verification status"
   ]
  },
  {
   "cell_type": "code",
   "execution_count": 1118,
   "id": "ad371cd1",
   "metadata": {},
   "outputs": [],
   "source": [
    "verification_dict = {\"Verified\": 1, \"Source Verified\": 1, \"Not Verified\":0, np.nan: 0}\n",
    "\n",
    "X_features[\"verification_status\"]  = X_features[\"verification_status\"].map(verification_dict) "
   ]
  },
  {
   "cell_type": "markdown",
   "id": "de00dfe9",
   "metadata": {},
   "source": [
    "Fix address state"
   ]
  },
  {
   "cell_type": "code",
   "execution_count": 1119,
   "id": "f4f286c6",
   "metadata": {},
   "outputs": [],
   "source": [
    "regions_dict = { \"PA\": \"East\", \"NY\":\"East\",\"VT\": \"East\", \"NH\":\"East\",\"ME\": \"East\",\n",
    "               \"MA\":\"East\",\"RI\": \"East\", \"CT\":\"East\", \"NJ\":\"East\",\"WA\": \"West\", \n",
    "               \"OR\":\"West\",\"CA\": \"West\", \"NV\":\"West\",\"ID\": \"West\", \"MT\":\"West\",\"WY\": \n",
    "               \"West\", \"UT\":\"West\", \"AZ\":\"West\",\"NM\": \"West\", \"CO\":\"West\", \"AK\":\"West\",\n",
    "               \"ND\":\"MidWest\",\"SD\": \"MidWest\", \"NE\":\"MidWest\",\"KS\": \"MidWest\", \"MN\":\"MidWest\",\n",
    "               \"IA\": \"MidWest\", \"MO\":\"MidWest\", \"IL\":\"MidWest\",\"WI\": \"MidWest\", \"IN\":\"MidWest\", \n",
    "               \"MI\":\"MidWest\",\"OH\":\"MidWest\",\"OK\":\"South\", \"TX\":\"South\", \"AR\":\"South\", \"LA\":\"South\", \n",
    "               \"MS\":\"South\", \"TN\":\"South\", \"KY\":\"South\", \"AL\":\"South\", \"FL\":\"South\", \n",
    "               \"GA\":\"South\", \"SC\":\"South\", \"NC\":\"South\", \"VA\":\"South\", \"WV\":\"South\", \"DC\":\"South\", \n",
    "               \"MD\":\"South\", \"DE\":\"South\", np.nan: 0}\n",
    "           \n",
    "Y_dependable[\"addr_state\"]  = Y_dependable[\"addr_state\"].map(regions_dict) \n",
    "address_state = pd.DataFrame(Y_dependable[\"addr_state\"])\n",
    "imputer = SimpleImputer(missing_values=np.nan, strategy='constant',fill_value=0)\n",
    "imputer.fit(address_state.iloc[:])\n",
    "Y_dependable[\"addr_state\"] = imputer.transform(address_state.iloc[:])\n"
   ]
  },
  {
   "cell_type": "markdown",
   "id": "4c24b095",
   "metadata": {},
   "source": [
    "Fix Total Payment"
   ]
  },
  {
   "cell_type": "code",
   "execution_count": 1120,
   "id": "db79dec5",
   "metadata": {},
   "outputs": [],
   "source": [
    "total_payment = pd.DataFrame(Y_dependable[\"total_paymnt\"])\n",
    "imputer.fit(total_payment.iloc[:])\n",
    "Y_dependable[\"total_paymnt\"] = imputer.transform(total_payment.iloc[:])"
   ]
  },
  {
   "cell_type": "markdown",
   "id": "8088744c",
   "metadata": {},
   "source": [
    "Convert Currency to EURO"
   ]
  },
  {
   "cell_type": "code",
   "execution_count": 1121,
   "id": "f7ce685f",
   "metadata": {},
   "outputs": [
    {
     "name": "stderr",
     "output_type": "stream",
     "text": [
      "C:\\Users\\Slims\\anaconda3\\lib\\site-packages\\IPython\\core\\interactiveshell.py:3369: FutureWarning: In a future version of pandas all arguments of read_csv except for the argument 'filepath_or_buffer' will be keyword-only.\n",
      "  exec(code_obj, self.user_global_ns, self.user_ns)\n"
     ]
    }
   ],
   "source": [
    "xchangrate_data = pd.read_csv('EUR-USD.csv',\",\")\n",
    "\n",
    "xchangrate_data = pd.DataFrame(xchangrate_data.iloc[:,3].values, columns = [\"Close\"])\n",
    "\n",
    "#X_features['quantity'] = X_features['quantity'].apply(lambda x: x*xchangrate_data.iloc)"
   ]
  },
  {
   "cell_type": "markdown",
   "id": "f35208d8",
   "metadata": {},
   "source": [
    "CHECK for missing data on the final dataframe "
   ]
  },
  {
   "cell_type": "code",
   "execution_count": 1122,
   "id": "0b260c72",
   "metadata": {},
   "outputs": [
    {
     "name": "stdout",
     "output_type": "stream",
     "text": [
      "     issue_date  loan_amnt  loan_status  term   int_rate  installment  \\\n",
      "2291       1-15    20000.0            0     1  13.660000       680.26   \n",
      "591        1-15    35000.0            1     1  19.990000      1300.55   \n",
      "592        1-15     6400.0            1     1   0.490000       196.13   \n",
      "2425       1-15    16000.0            1     1   0.490000       512.46   \n",
      "8293       1-15     8500.0            1     0  14.310000       291.80   \n",
      "...         ...        ...          ...   ...        ...          ...   \n",
      "830        9-15    21000.0            1     0   0.170000       437.67   \n",
      "824        9-15     9600.0            1     1  17.570000       345.00   \n",
      "821        9-15    28000.0            1     1  15.610000       979.02   \n",
      "9006       9-15    12000.0            1     1   7.524344       361.38   \n",
      "5269       9-15     8375.0            1     1  18.250000       303.83   \n",
      "\n",
      "      sub_grade  verification_status addr_state total_paymnt  \n",
      "2291         13                    1      South            0  \n",
      "591          23                    1          0     15567.73  \n",
      "592           2                    0       West      2348.94  \n",
      "2425          7                    1       West      6141.08  \n",
      "8293         14                    1       East      3203.04  \n",
      "...         ...                  ...        ...          ...  \n",
      "830           7                    1      South      1729.28  \n",
      "824          19                    0      South      1297.06  \n",
      "821          16                    0      South     28363.71  \n",
      "9006          1                    1    MidWest      1080.59  \n",
      "5269         21                    1       East        903.0  \n",
      "\n",
      "[10000 rows x 10 columns]\n",
      "issue_date             0\n",
      "loan_amnt              0\n",
      "loan_status            0\n",
      "term                   0\n",
      "int_rate               0\n",
      "installment            0\n",
      "sub_grade              0\n",
      "verification_status    0\n",
      "addr_state             0\n",
      "total_paymnt           0\n",
      "dtype: int64\n"
     ]
    }
   ],
   "source": [
    "credit_check_dataframe = pd.concat([X_features, Y_dependable], axis=1)\n",
    "credit_check_dataframe = credit_check_dataframe.sort_values(by=['issue_date'])\n",
    "print(final_dataframe)\n",
    "missing_values = pd.isnull(credit_check_dataframe).sum()\n",
    "print(missing_values)\n",
    "credit_check_dataframe.to_csv('Credit_check.csv')"
   ]
  }
 ],
 "metadata": {
  "kernelspec": {
   "display_name": "Python 3 (ipykernel)",
   "language": "python",
   "name": "python3"
  },
  "language_info": {
   "codemirror_mode": {
    "name": "ipython",
    "version": 3
   },
   "file_extension": ".py",
   "mimetype": "text/x-python",
   "name": "python",
   "nbconvert_exporter": "python",
   "pygments_lexer": "ipython3",
   "version": "3.9.12"
  }
 },
 "nbformat": 4,
 "nbformat_minor": 5
}
