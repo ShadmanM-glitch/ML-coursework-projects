{
 "cells": [
  {
   "cell_type": "code",
   "execution_count": 1,
   "id": "07cff6f4",
   "metadata": {},
   "outputs": [],
   "source": [
    "import numpy as np\n",
    "import matplotlib.pyplot as plt\n",
    "import pandas as pd\n",
    "import seaborn as sns"
   ]
  },
  {
   "cell_type": "code",
   "execution_count": 2,
   "id": "f30f324f",
   "metadata": {},
   "outputs": [],
   "source": [
    "df = pd.read_csv('Hotel Data.csv')"
   ]
  },
  {
   "cell_type": "code",
   "execution_count": 3,
   "id": "b3ddd495",
   "metadata": {},
   "outputs": [
    {
     "data": {
      "text/html": [
       "<div>\n",
       "<style scoped>\n",
       "    .dataframe tbody tr th:only-of-type {\n",
       "        vertical-align: middle;\n",
       "    }\n",
       "\n",
       "    .dataframe tbody tr th {\n",
       "        vertical-align: top;\n",
       "    }\n",
       "\n",
       "    .dataframe thead th {\n",
       "        text-align: right;\n",
       "    }\n",
       "</style>\n",
       "<table border=\"1\" class=\"dataframe\">\n",
       "  <thead>\n",
       "    <tr style=\"text-align: right;\">\n",
       "      <th></th>\n",
       "      <th>IsCanceled</th>\n",
       "      <th>LeadTime</th>\n",
       "      <th>ArrivalDateYear</th>\n",
       "      <th>ArrivalDateMonth</th>\n",
       "      <th>ArrivalDateWeekNumber</th>\n",
       "      <th>ArrivalDateDayOfMonth</th>\n",
       "      <th>StaysInWeekendNights</th>\n",
       "      <th>StaysInWeekNights</th>\n",
       "      <th>Adults</th>\n",
       "      <th>Children</th>\n",
       "      <th>...</th>\n",
       "      <th>DepositType</th>\n",
       "      <th>Agent</th>\n",
       "      <th>Company</th>\n",
       "      <th>DaysInWaitingList</th>\n",
       "      <th>CustomerType</th>\n",
       "      <th>ADR</th>\n",
       "      <th>RequiredCarParkingSpaces</th>\n",
       "      <th>TotalOfSpecialRequests</th>\n",
       "      <th>ReservationStatus</th>\n",
       "      <th>ReservationStatusDate</th>\n",
       "    </tr>\n",
       "  </thead>\n",
       "  <tbody>\n",
       "    <tr>\n",
       "      <th>0</th>\n",
       "      <td>0</td>\n",
       "      <td>342</td>\n",
       "      <td>2015</td>\n",
       "      <td>July</td>\n",
       "      <td>27</td>\n",
       "      <td>1</td>\n",
       "      <td>0</td>\n",
       "      <td>0</td>\n",
       "      <td>2</td>\n",
       "      <td>0</td>\n",
       "      <td>...</td>\n",
       "      <td>No Deposit</td>\n",
       "      <td>NULL</td>\n",
       "      <td>NULL</td>\n",
       "      <td>0</td>\n",
       "      <td>Transient</td>\n",
       "      <td>0.0</td>\n",
       "      <td>0</td>\n",
       "      <td>0</td>\n",
       "      <td>Check-Out</td>\n",
       "      <td>2015-07-01</td>\n",
       "    </tr>\n",
       "    <tr>\n",
       "      <th>1</th>\n",
       "      <td>0</td>\n",
       "      <td>737</td>\n",
       "      <td>2015</td>\n",
       "      <td>July</td>\n",
       "      <td>27</td>\n",
       "      <td>1</td>\n",
       "      <td>0</td>\n",
       "      <td>0</td>\n",
       "      <td>2</td>\n",
       "      <td>0</td>\n",
       "      <td>...</td>\n",
       "      <td>No Deposit</td>\n",
       "      <td>NULL</td>\n",
       "      <td>NULL</td>\n",
       "      <td>0</td>\n",
       "      <td>Transient</td>\n",
       "      <td>0.0</td>\n",
       "      <td>0</td>\n",
       "      <td>0</td>\n",
       "      <td>Check-Out</td>\n",
       "      <td>2015-07-01</td>\n",
       "    </tr>\n",
       "    <tr>\n",
       "      <th>2</th>\n",
       "      <td>0</td>\n",
       "      <td>7</td>\n",
       "      <td>2015</td>\n",
       "      <td>July</td>\n",
       "      <td>27</td>\n",
       "      <td>1</td>\n",
       "      <td>0</td>\n",
       "      <td>1</td>\n",
       "      <td>1</td>\n",
       "      <td>0</td>\n",
       "      <td>...</td>\n",
       "      <td>No Deposit</td>\n",
       "      <td>NULL</td>\n",
       "      <td>NULL</td>\n",
       "      <td>0</td>\n",
       "      <td>Transient</td>\n",
       "      <td>75.0</td>\n",
       "      <td>0</td>\n",
       "      <td>0</td>\n",
       "      <td>Check-Out</td>\n",
       "      <td>2015-07-02</td>\n",
       "    </tr>\n",
       "    <tr>\n",
       "      <th>3</th>\n",
       "      <td>0</td>\n",
       "      <td>13</td>\n",
       "      <td>2015</td>\n",
       "      <td>July</td>\n",
       "      <td>27</td>\n",
       "      <td>1</td>\n",
       "      <td>0</td>\n",
       "      <td>1</td>\n",
       "      <td>1</td>\n",
       "      <td>0</td>\n",
       "      <td>...</td>\n",
       "      <td>No Deposit</td>\n",
       "      <td>304</td>\n",
       "      <td>NULL</td>\n",
       "      <td>0</td>\n",
       "      <td>Transient</td>\n",
       "      <td>75.0</td>\n",
       "      <td>0</td>\n",
       "      <td>0</td>\n",
       "      <td>Check-Out</td>\n",
       "      <td>2015-07-02</td>\n",
       "    </tr>\n",
       "    <tr>\n",
       "      <th>4</th>\n",
       "      <td>0</td>\n",
       "      <td>14</td>\n",
       "      <td>2015</td>\n",
       "      <td>July</td>\n",
       "      <td>27</td>\n",
       "      <td>1</td>\n",
       "      <td>0</td>\n",
       "      <td>2</td>\n",
       "      <td>2</td>\n",
       "      <td>0</td>\n",
       "      <td>...</td>\n",
       "      <td>No Deposit</td>\n",
       "      <td>240</td>\n",
       "      <td>NULL</td>\n",
       "      <td>0</td>\n",
       "      <td>Transient</td>\n",
       "      <td>98.0</td>\n",
       "      <td>0</td>\n",
       "      <td>1</td>\n",
       "      <td>Check-Out</td>\n",
       "      <td>2015-07-03</td>\n",
       "    </tr>\n",
       "  </tbody>\n",
       "</table>\n",
       "<p>5 rows × 31 columns</p>\n",
       "</div>"
      ],
      "text/plain": [
       "   IsCanceled  LeadTime  ArrivalDateYear ArrivalDateMonth  \\\n",
       "0           0       342             2015             July   \n",
       "1           0       737             2015             July   \n",
       "2           0         7             2015             July   \n",
       "3           0        13             2015             July   \n",
       "4           0        14             2015             July   \n",
       "\n",
       "   ArrivalDateWeekNumber  ArrivalDateDayOfMonth  StaysInWeekendNights  \\\n",
       "0                     27                      1                     0   \n",
       "1                     27                      1                     0   \n",
       "2                     27                      1                     0   \n",
       "3                     27                      1                     0   \n",
       "4                     27                      1                     0   \n",
       "\n",
       "   StaysInWeekNights  Adults  Children  ...      DepositType        Agent  \\\n",
       "0                  0       2         0  ...  No Deposit              NULL   \n",
       "1                  0       2         0  ...  No Deposit              NULL   \n",
       "2                  1       1         0  ...  No Deposit              NULL   \n",
       "3                  1       1         0  ...  No Deposit               304   \n",
       "4                  2       2         0  ...  No Deposit               240   \n",
       "\n",
       "       Company DaysInWaitingList CustomerType   ADR  RequiredCarParkingSpaces  \\\n",
       "0         NULL                 0    Transient   0.0                         0   \n",
       "1         NULL                 0    Transient   0.0                         0   \n",
       "2         NULL                 0    Transient  75.0                         0   \n",
       "3         NULL                 0    Transient  75.0                         0   \n",
       "4         NULL                 0    Transient  98.0                         0   \n",
       "\n",
       "   TotalOfSpecialRequests ReservationStatus ReservationStatusDate  \n",
       "0                       0         Check-Out            2015-07-01  \n",
       "1                       0         Check-Out            2015-07-01  \n",
       "2                       0         Check-Out            2015-07-02  \n",
       "3                       0         Check-Out            2015-07-02  \n",
       "4                       1         Check-Out            2015-07-03  \n",
       "\n",
       "[5 rows x 31 columns]"
      ]
     },
     "execution_count": 3,
     "metadata": {},
     "output_type": "execute_result"
    }
   ],
   "source": [
    "df.head(5)"
   ]
  },
  {
   "cell_type": "code",
   "execution_count": 4,
   "id": "23f3b774",
   "metadata": {},
   "outputs": [],
   "source": [
    "df = df[['IsCanceled','Country','MarketSegment','DepositType','CustomerType','RequiredCarParkingSpaces','ArrivalDateWeekNumber','ADR']]"
   ]
  },
  {
   "cell_type": "code",
   "execution_count": 5,
   "id": "05e07ca2",
   "metadata": {},
   "outputs": [
    {
     "data": {
      "text/html": [
       "<div>\n",
       "<style scoped>\n",
       "    .dataframe tbody tr th:only-of-type {\n",
       "        vertical-align: middle;\n",
       "    }\n",
       "\n",
       "    .dataframe tbody tr th {\n",
       "        vertical-align: top;\n",
       "    }\n",
       "\n",
       "    .dataframe thead th {\n",
       "        text-align: right;\n",
       "    }\n",
       "</style>\n",
       "<table border=\"1\" class=\"dataframe\">\n",
       "  <thead>\n",
       "    <tr style=\"text-align: right;\">\n",
       "      <th></th>\n",
       "      <th>IsCanceled</th>\n",
       "      <th>Country</th>\n",
       "      <th>MarketSegment</th>\n",
       "      <th>DepositType</th>\n",
       "      <th>CustomerType</th>\n",
       "      <th>RequiredCarParkingSpaces</th>\n",
       "      <th>ArrivalDateWeekNumber</th>\n",
       "      <th>ADR</th>\n",
       "    </tr>\n",
       "  </thead>\n",
       "  <tbody>\n",
       "    <tr>\n",
       "      <th>0</th>\n",
       "      <td>0</td>\n",
       "      <td>PRT</td>\n",
       "      <td>Direct</td>\n",
       "      <td>No Deposit</td>\n",
       "      <td>Transient</td>\n",
       "      <td>0</td>\n",
       "      <td>27</td>\n",
       "      <td>0.0</td>\n",
       "    </tr>\n",
       "    <tr>\n",
       "      <th>1</th>\n",
       "      <td>0</td>\n",
       "      <td>PRT</td>\n",
       "      <td>Direct</td>\n",
       "      <td>No Deposit</td>\n",
       "      <td>Transient</td>\n",
       "      <td>0</td>\n",
       "      <td>27</td>\n",
       "      <td>0.0</td>\n",
       "    </tr>\n",
       "    <tr>\n",
       "      <th>2</th>\n",
       "      <td>0</td>\n",
       "      <td>GBR</td>\n",
       "      <td>Direct</td>\n",
       "      <td>No Deposit</td>\n",
       "      <td>Transient</td>\n",
       "      <td>0</td>\n",
       "      <td>27</td>\n",
       "      <td>75.0</td>\n",
       "    </tr>\n",
       "    <tr>\n",
       "      <th>3</th>\n",
       "      <td>0</td>\n",
       "      <td>GBR</td>\n",
       "      <td>Corporate</td>\n",
       "      <td>No Deposit</td>\n",
       "      <td>Transient</td>\n",
       "      <td>0</td>\n",
       "      <td>27</td>\n",
       "      <td>75.0</td>\n",
       "    </tr>\n",
       "    <tr>\n",
       "      <th>4</th>\n",
       "      <td>0</td>\n",
       "      <td>GBR</td>\n",
       "      <td>Online TA</td>\n",
       "      <td>No Deposit</td>\n",
       "      <td>Transient</td>\n",
       "      <td>0</td>\n",
       "      <td>27</td>\n",
       "      <td>98.0</td>\n",
       "    </tr>\n",
       "  </tbody>\n",
       "</table>\n",
       "</div>"
      ],
      "text/plain": [
       "   IsCanceled Country MarketSegment      DepositType CustomerType  \\\n",
       "0           0     PRT        Direct  No Deposit         Transient   \n",
       "1           0     PRT        Direct  No Deposit         Transient   \n",
       "2           0     GBR        Direct  No Deposit         Transient   \n",
       "3           0     GBR     Corporate  No Deposit         Transient   \n",
       "4           0     GBR     Online TA  No Deposit         Transient   \n",
       "\n",
       "   RequiredCarParkingSpaces  ArrivalDateWeekNumber   ADR  \n",
       "0                         0                     27   0.0  \n",
       "1                         0                     27   0.0  \n",
       "2                         0                     27  75.0  \n",
       "3                         0                     27  75.0  \n",
       "4                         0                     27  98.0  "
      ]
     },
     "execution_count": 5,
     "metadata": {},
     "output_type": "execute_result"
    }
   ],
   "source": [
    "df.head(5)"
   ]
  },
  {
   "cell_type": "code",
   "execution_count": 6,
   "id": "ca500de7",
   "metadata": {},
   "outputs": [
    {
     "data": {
      "text/plain": [
       "IsCanceled                    0\n",
       "Country                     464\n",
       "MarketSegment                 0\n",
       "DepositType                   0\n",
       "CustomerType                  0\n",
       "RequiredCarParkingSpaces      0\n",
       "ArrivalDateWeekNumber         0\n",
       "ADR                           0\n",
       "dtype: int64"
      ]
     },
     "execution_count": 6,
     "metadata": {},
     "output_type": "execute_result"
    }
   ],
   "source": [
    "df.isnull().sum()"
   ]
  },
  {
   "cell_type": "code",
   "execution_count": 7,
   "id": "80286461",
   "metadata": {
    "scrolled": true
   },
   "outputs": [
    {
     "name": "stdout",
     "output_type": "stream",
     "text": [
      "<class 'pandas.core.frame.DataFrame'>\n",
      "RangeIndex: 40060 entries, 0 to 40059\n",
      "Data columns (total 8 columns):\n",
      " #   Column                    Non-Null Count  Dtype  \n",
      "---  ------                    --------------  -----  \n",
      " 0   IsCanceled                40060 non-null  int64  \n",
      " 1   Country                   39596 non-null  object \n",
      " 2   MarketSegment             40060 non-null  object \n",
      " 3   DepositType               40060 non-null  object \n",
      " 4   CustomerType              40060 non-null  object \n",
      " 5   RequiredCarParkingSpaces  40060 non-null  int64  \n",
      " 6   ArrivalDateWeekNumber     40060 non-null  int64  \n",
      " 7   ADR                       40060 non-null  float64\n",
      "dtypes: float64(1), int64(3), object(4)\n",
      "memory usage: 2.4+ MB\n"
     ]
    }
   ],
   "source": [
    "df.info()"
   ]
  },
  {
   "cell_type": "code",
   "execution_count": 8,
   "id": "9a9d1880",
   "metadata": {},
   "outputs": [],
   "source": [
    "#since 464/40060 accounts for about 1.2 percent of data we can drop it and it wont affect our results\n",
    "df = df.dropna(subset=['Country'])"
   ]
  },
  {
   "cell_type": "markdown",
   "id": "7f91d8d6",
   "metadata": {},
   "source": [
    "Initially was mapping the values manually, <br>however this was not feasible for countries column as it had too many unique values<br>found documentation for cat.codes upon research<br>\n",
    "Converting column to category type and then using cat.codes accessor"
   ]
  },
  {
   "cell_type": "code",
   "execution_count": 9,
   "id": "7f3cadd8",
   "metadata": {},
   "outputs": [
    {
     "data": {
      "text/html": [
       "<div>\n",
       "<style scoped>\n",
       "    .dataframe tbody tr th:only-of-type {\n",
       "        vertical-align: middle;\n",
       "    }\n",
       "\n",
       "    .dataframe tbody tr th {\n",
       "        vertical-align: top;\n",
       "    }\n",
       "\n",
       "    .dataframe thead th {\n",
       "        text-align: right;\n",
       "    }\n",
       "</style>\n",
       "<table border=\"1\" class=\"dataframe\">\n",
       "  <thead>\n",
       "    <tr style=\"text-align: right;\">\n",
       "      <th></th>\n",
       "      <th>IsCanceled</th>\n",
       "      <th>Country</th>\n",
       "      <th>MarketSegment</th>\n",
       "      <th>DepositType</th>\n",
       "      <th>CustomerType</th>\n",
       "      <th>RequiredCarParkingSpaces</th>\n",
       "      <th>ArrivalDateWeekNumber</th>\n",
       "      <th>ADR</th>\n",
       "    </tr>\n",
       "  </thead>\n",
       "  <tbody>\n",
       "    <tr>\n",
       "      <th>0</th>\n",
       "      <td>0</td>\n",
       "      <td>95</td>\n",
       "      <td>2</td>\n",
       "      <td>0</td>\n",
       "      <td>2</td>\n",
       "      <td>0</td>\n",
       "      <td>27</td>\n",
       "      <td>0.0</td>\n",
       "    </tr>\n",
       "    <tr>\n",
       "      <th>1</th>\n",
       "      <td>0</td>\n",
       "      <td>95</td>\n",
       "      <td>2</td>\n",
       "      <td>0</td>\n",
       "      <td>2</td>\n",
       "      <td>0</td>\n",
       "      <td>27</td>\n",
       "      <td>0.0</td>\n",
       "    </tr>\n",
       "    <tr>\n",
       "      <th>2</th>\n",
       "      <td>0</td>\n",
       "      <td>45</td>\n",
       "      <td>2</td>\n",
       "      <td>0</td>\n",
       "      <td>2</td>\n",
       "      <td>0</td>\n",
       "      <td>27</td>\n",
       "      <td>75.0</td>\n",
       "    </tr>\n",
       "    <tr>\n",
       "      <th>3</th>\n",
       "      <td>0</td>\n",
       "      <td>45</td>\n",
       "      <td>1</td>\n",
       "      <td>0</td>\n",
       "      <td>2</td>\n",
       "      <td>0</td>\n",
       "      <td>27</td>\n",
       "      <td>75.0</td>\n",
       "    </tr>\n",
       "    <tr>\n",
       "      <th>4</th>\n",
       "      <td>0</td>\n",
       "      <td>45</td>\n",
       "      <td>5</td>\n",
       "      <td>0</td>\n",
       "      <td>2</td>\n",
       "      <td>0</td>\n",
       "      <td>27</td>\n",
       "      <td>98.0</td>\n",
       "    </tr>\n",
       "  </tbody>\n",
       "</table>\n",
       "</div>"
      ],
      "text/plain": [
       "   IsCanceled  Country  MarketSegment  DepositType  CustomerType  \\\n",
       "0           0       95              2            0             2   \n",
       "1           0       95              2            0             2   \n",
       "2           0       45              2            0             2   \n",
       "3           0       45              1            0             2   \n",
       "4           0       45              5            0             2   \n",
       "\n",
       "   RequiredCarParkingSpaces  ArrivalDateWeekNumber   ADR  \n",
       "0                         0                     27   0.0  \n",
       "1                         0                     27   0.0  \n",
       "2                         0                     27  75.0  \n",
       "3                         0                     27  75.0  \n",
       "4                         0                     27  98.0  "
      ]
     },
     "execution_count": 9,
     "metadata": {},
     "output_type": "execute_result"
    }
   ],
   "source": [
    "df[\"Country\"] = df[\"Country\"].astype('category').cat.codes\n",
    "df[\"MarketSegment\"] = df[\"MarketSegment\"].astype('category').cat.codes\n",
    "df['DepositType'] = df['DepositType'].astype('category').cat.codes\n",
    "df['CustomerType'] = df['CustomerType'].astype('category').cat.codes\n",
    "df.head()"
   ]
  },
  {
   "cell_type": "code",
   "execution_count": 10,
   "id": "778baeec",
   "metadata": {},
   "outputs": [],
   "source": [
    "X_features = df.drop(columns='ADR')\n",
    "Y_features = df['ADR']"
   ]
  },
  {
   "cell_type": "code",
   "execution_count": 11,
   "id": "6c51b176",
   "metadata": {},
   "outputs": [],
   "source": [
    "from sklearn.model_selection import train_test_split"
   ]
  },
  {
   "cell_type": "code",
   "execution_count": 12,
   "id": "d3e313e5",
   "metadata": {},
   "outputs": [],
   "source": [
    "X_train, X_test, y_train, y_test = train_test_split(X_features, Y_features, test_size=0.30, random_state=42)"
   ]
  },
  {
   "cell_type": "code",
   "execution_count": 13,
   "id": "8b227f98",
   "metadata": {},
   "outputs": [],
   "source": [
    "from sklearn.preprocessing import MinMaxScaler"
   ]
  },
  {
   "cell_type": "code",
   "execution_count": 14,
   "id": "7a7e6126",
   "metadata": {},
   "outputs": [],
   "source": [
    "scaler = MinMaxScaler()\n",
    "sc = MinMaxScaler()\n",
    "X_train = scaler.fit_transform(X_train)\n",
    "X_test = scaler.transform(X_test)\n",
    "y_train = sc.fit_transform(y_train.values.reshape(-1,1))\n",
    "y_test = sc.transform(y_test.values.reshape(-1,1))"
   ]
  },
  {
   "cell_type": "code",
   "execution_count": 15,
   "id": "2161a59c",
   "metadata": {},
   "outputs": [],
   "source": [
    "import tensorflow as tf"
   ]
  },
  {
   "cell_type": "code",
   "execution_count": 16,
   "id": "963301aa",
   "metadata": {},
   "outputs": [
    {
     "data": {
      "text/plain": [
       "(39596, 7)"
      ]
     },
     "execution_count": 16,
     "metadata": {},
     "output_type": "execute_result"
    }
   ],
   "source": [
    "X_features.shape"
   ]
  },
  {
   "cell_type": "markdown",
   "id": "0fdea9ea",
   "metadata": {},
   "source": [
    "Input layer: Number of features in the training set + 1 <br>\n",
    "Hidden layer: (Training Data Samples)/(Factor * (Input Neurons + Output Neurons)) <br>\n",
    "Output layer has a single node <br>\n",
    "Reference: https://medium.com/fintechexplained/what-are-hidden-layers-4f54f7328263"
   ]
  },
  {
   "cell_type": "code",
   "execution_count": 17,
   "id": "d8f71469",
   "metadata": {},
   "outputs": [],
   "source": [
    "model = tf.keras.models.Sequential()\n",
    "model.add(tf.keras.layers.Dense(units=8, activation='relu'))\n",
    "model.add(tf.keras.layers.Dense(units=4399, activation='relu'))\n",
    "model.add(tf.keras.layers.Dense(units=1, activation='sigmoid'))"
   ]
  },
  {
   "cell_type": "code",
   "execution_count": 18,
   "id": "9e2b25f6",
   "metadata": {},
   "outputs": [],
   "source": [
    "model.compile(optimizer='adam',loss='mse')"
   ]
  },
  {
   "cell_type": "code",
   "execution_count": 19,
   "id": "523ee246",
   "metadata": {},
   "outputs": [
    {
     "name": "stdout",
     "output_type": "stream",
     "text": [
      "Epoch 1/50\n",
      "87/87 [==============================] - 2s 14ms/step - loss: 0.0219 - val_loss: 0.0166\n",
      "Epoch 2/50\n",
      "87/87 [==============================] - 1s 8ms/step - loss: 0.0152 - val_loss: 0.0139\n",
      "Epoch 3/50\n",
      "87/87 [==============================] - 1s 8ms/step - loss: 0.0125 - val_loss: 0.0112\n",
      "Epoch 4/50\n",
      "87/87 [==============================] - 1s 11ms/step - loss: 0.0104 - val_loss: 0.0097\n",
      "Epoch 5/50\n",
      "87/87 [==============================] - 1s 8ms/step - loss: 0.0092 - val_loss: 0.0090\n",
      "Epoch 6/50\n",
      "87/87 [==============================] - 1s 9ms/step - loss: 0.0086 - val_loss: 0.0085\n",
      "Epoch 7/50\n",
      "87/87 [==============================] - 1s 9ms/step - loss: 0.0083 - val_loss: 0.0083\n",
      "Epoch 8/50\n",
      "87/87 [==============================] - 1s 16ms/step - loss: 0.0081 - val_loss: 0.0081\n",
      "Epoch 9/50\n",
      "87/87 [==============================] - 1s 13ms/step - loss: 0.0079 - val_loss: 0.0079\n",
      "Epoch 10/50\n",
      "87/87 [==============================] - 1s 8ms/step - loss: 0.0077 - val_loss: 0.0076\n",
      "Epoch 11/50\n",
      "87/87 [==============================] - 1s 8ms/step - loss: 0.0076 - val_loss: 0.0077\n",
      "Epoch 12/50\n",
      "87/87 [==============================] - 1s 12ms/step - loss: 0.0075 - val_loss: 0.0076\n",
      "Epoch 13/50\n",
      "87/87 [==============================] - 1s 14ms/step - loss: 0.0073 - val_loss: 0.0074\n",
      "Epoch 14/50\n",
      "87/87 [==============================] - 1s 12ms/step - loss: 0.0073 - val_loss: 0.0074\n",
      "Epoch 15/50\n",
      "87/87 [==============================] - 1s 8ms/step - loss: 0.0072 - val_loss: 0.0072\n",
      "Epoch 16/50\n",
      "87/87 [==============================] - 1s 11ms/step - loss: 0.0072 - val_loss: 0.0073\n",
      "Epoch 17/50\n",
      "87/87 [==============================] - 1s 8ms/step - loss: 0.0072 - val_loss: 0.0072\n",
      "Epoch 18/50\n",
      "87/87 [==============================] - 1s 9ms/step - loss: 0.0070 - val_loss: 0.0071\n",
      "Epoch 19/50\n",
      "87/87 [==============================] - 1s 10ms/step - loss: 0.0069 - val_loss: 0.0072\n",
      "Epoch 20/50\n",
      "87/87 [==============================] - 1s 11ms/step - loss: 0.0069 - val_loss: 0.0069\n",
      "Epoch 21/50\n",
      "87/87 [==============================] - 1s 9ms/step - loss: 0.0069 - val_loss: 0.0069\n",
      "Epoch 22/50\n",
      "87/87 [==============================] - 1s 10ms/step - loss: 0.0068 - val_loss: 0.0068\n",
      "Epoch 23/50\n",
      "87/87 [==============================] - 1s 11ms/step - loss: 0.0068 - val_loss: 0.0068\n",
      "Epoch 24/50\n",
      "87/87 [==============================] - 1s 8ms/step - loss: 0.0067 - val_loss: 0.0068\n",
      "Epoch 25/50\n",
      "87/87 [==============================] - 1s 12ms/step - loss: 0.0067 - val_loss: 0.0067\n",
      "Epoch 26/50\n",
      "87/87 [==============================] - 1s 9ms/step - loss: 0.0066 - val_loss: 0.0067\n",
      "Epoch 27/50\n",
      "87/87 [==============================] - 1s 8ms/step - loss: 0.0066 - val_loss: 0.0068\n",
      "Epoch 28/50\n",
      "87/87 [==============================] - 1s 9ms/step - loss: 0.0067 - val_loss: 0.0071\n",
      "Epoch 29/50\n",
      "87/87 [==============================] - 1s 8ms/step - loss: 0.0066 - val_loss: 0.0066\n",
      "Epoch 30/50\n",
      "87/87 [==============================] - 1s 8ms/step - loss: 0.0065 - val_loss: 0.0065\n",
      "Epoch 31/50\n",
      "87/87 [==============================] - 1s 8ms/step - loss: 0.0063 - val_loss: 0.0064\n",
      "Epoch 32/50\n",
      "87/87 [==============================] - 1s 8ms/step - loss: 0.0063 - val_loss: 0.0065\n",
      "Epoch 33/50\n",
      "87/87 [==============================] - 1s 9ms/step - loss: 0.0063 - val_loss: 0.0064\n",
      "Epoch 34/50\n",
      "87/87 [==============================] - 1s 8ms/step - loss: 0.0063 - val_loss: 0.0063\n",
      "Epoch 35/50\n",
      "87/87 [==============================] - 1s 7ms/step - loss: 0.0063 - val_loss: 0.0063\n",
      "Epoch 36/50\n",
      "87/87 [==============================] - 1s 8ms/step - loss: 0.0062 - val_loss: 0.0062\n",
      "Epoch 37/50\n",
      "87/87 [==============================] - 1s 8ms/step - loss: 0.0062 - val_loss: 0.0064\n",
      "Epoch 38/50\n",
      "87/87 [==============================] - 1s 7ms/step - loss: 0.0062 - val_loss: 0.0062\n",
      "Epoch 39/50\n",
      "87/87 [==============================] - 1s 8ms/step - loss: 0.0061 - val_loss: 0.0061\n",
      "Epoch 40/50\n",
      "87/87 [==============================] - 1s 13ms/step - loss: 0.0061 - val_loss: 0.0062\n",
      "Epoch 41/50\n",
      "87/87 [==============================] - 1s 9ms/step - loss: 0.0061 - val_loss: 0.0062\n",
      "Epoch 42/50\n",
      "87/87 [==============================] - 1s 8ms/step - loss: 0.0061 - val_loss: 0.0060\n",
      "Epoch 43/50\n",
      "87/87 [==============================] - 1s 10ms/step - loss: 0.0061 - val_loss: 0.0062\n",
      "Epoch 44/50\n",
      "87/87 [==============================] - 1s 8ms/step - loss: 0.0061 - val_loss: 0.0060\n",
      "Epoch 45/50\n",
      "87/87 [==============================] - 1s 8ms/step - loss: 0.0060 - val_loss: 0.0063\n",
      "Epoch 46/50\n",
      "87/87 [==============================] - 1s 8ms/step - loss: 0.0060 - val_loss: 0.0061\n",
      "Epoch 47/50\n",
      "87/87 [==============================] - 1s 8ms/step - loss: 0.0060 - val_loss: 0.0060\n",
      "Epoch 48/50\n",
      "87/87 [==============================] - 1s 9ms/step - loss: 0.0060 - val_loss: 0.0061\n",
      "Epoch 49/50\n",
      "87/87 [==============================] - 1s 8ms/step - loss: 0.0059 - val_loss: 0.0062\n",
      "Epoch 50/50\n",
      "87/87 [==============================] - 1s 8ms/step - loss: 0.0059 - val_loss: 0.0059\n"
     ]
    }
   ],
   "source": [
    "nnetwork = model.fit(X_train, y_train, batch_size = 256, epochs = 50, validation_split=0.2)"
   ]
  },
  {
   "cell_type": "code",
   "execution_count": 20,
   "id": "801375b8",
   "metadata": {},
   "outputs": [
    {
     "name": "stdout",
     "output_type": "stream",
     "text": [
      "372/372 [==============================] - 0s 814us/step\n"
     ]
    }
   ],
   "source": [
    "pred = model.predict(X_test)"
   ]
  },
  {
   "cell_type": "code",
   "execution_count": 21,
   "id": "a478d0ec",
   "metadata": {},
   "outputs": [
    {
     "data": {
      "image/png": "[encoded data removed]",
      "text/plain": [
       "<Figure size 432x288 with 1 Axes>"
      ]
     },
     "metadata": {},
     "output_type": "display_data"
    }
   ],
   "source": [
    "sns.set(style=\"whitegrid\", font_scale=1)\n",
    "plt.plot(nnetwork.history['loss'])\n",
    "plt.plot(nnetwork.history['val_loss'])\n",
    "plt.title('model loss')\n",
    "plt.ylabel('loss')\n",
    "plt.xlabel('epoch')\n",
    "plt.legend(['train', 'validation'])\n",
    "plt.show()"
   ]
  },
  {
   "cell_type": "code",
   "execution_count": 22,
   "id": "65c7220a",
   "metadata": {},
   "outputs": [],
   "source": [
    "Actual_ADR = sc.inverse_transform(y_test)\n",
    "Predicted_ADR = sc.inverse_transform(pred)"
   ]
  },
  {
   "cell_type": "code",
   "execution_count": 23,
   "id": "effb6a12",
   "metadata": {},
   "outputs": [],
   "source": [
    "from sklearn.metrics import mean_absolute_error"
   ]
  },
  {
   "cell_type": "code",
   "execution_count": 24,
   "id": "589fa46a",
   "metadata": {},
   "outputs": [],
   "source": [
    "MAE = mean_absolute_error(Actual_ADR, Predicted_ADR)"
   ]
  },
  {
   "cell_type": "code",
   "execution_count": 25,
   "id": "bed4ef51",
   "metadata": {},
   "outputs": [
    {
     "name": "stdout",
     "output_type": "stream",
     "text": [
      "Since MSE 24.963363300029332 is low relative to our dataset we can conclude model has high accuracy \n"
     ]
    }
   ],
   "source": [
    "print(f\"Since MSE {MAE} is low relative to our dataset we can conclude model has high accuracy \")"
   ]
  }
 ],
 "metadata": {
  "kernelspec": {
   "display_name": "Python 3 (ipykernel)",
   "language": "python",
   "name": "python3"
  },
  "language_info": {
   "codemirror_mode": {
    "name": "ipython",
    "version": 3
   },
   "file_extension": ".py",
   "mimetype": "text/x-python",
   "name": "python",
   "nbconvert_exporter": "python",
   "pygments_lexer": "ipython3",
   "version": "3.9.12"
  }
 },
 "nbformat": 4,
 "nbformat_minor": 5
}
